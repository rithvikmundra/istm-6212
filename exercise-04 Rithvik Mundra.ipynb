{
 "cells": [
  {
   "cell_type": "markdown",
   "metadata": {},
   "source": [
    "# Exercise 04 - Due Friday, October 21 at 12pm\n",
    "\n",
    "*Objectives*: Gain experience loading a CSV dataset into a database model you define yourself and using SQL to explore its contents. Explore the data by writing and executing a number of SQL queries using common syntax and functions and describing your findings.\n",
    "\n",
    "*Grading criteria*: The tasks should all be completed, and questions should all be answered with SQL queries in the space provided, unless a text answer is requested. Results should be correct, according to the embedded tests. The notebook itself should be completely reproducible; from start to finish, another person should be able to use the same code to obtain the same results as yours.  Note that you will receive no more than partial credit if you do not add text/markdown cells explaining your thinking at each major step in each problem.\n",
    "\n",
    "*Deadline*: Friday, October 21, 12pm. Submit your notebook to Blackboard and push it to your GitHub repository.\n",
    "\n",
    "## Setup - obtain data and create database\n",
    "\n",
    "The US City Open Data Census has data on [restaurant inspections from all over the country](http://us-city.census.okfn.org/dataset/food-safety).  Let's take a look at data from Albuquerque.  *Note*: metadata and other details for this dataset are available at http://data.cabq.gov/business/foodinspections/.\n",
    "\n",
    "Fyi, to save you a step, I've converted this file into a clean CSV file by using the `dos2unix` command to change its line endings and to switch it to use commas instead of tabs using `csvformat -t inputfile.csv > outputfile.csv`.\n",
    "\n",
    "First we download the dataset:"
   ]
  },
  {
   "cell_type": "code",
   "execution_count": 1,
   "metadata": {
    "collapsed": false
   },
   "outputs": [
    {
     "name": "stdout",
     "output_type": "stream",
     "text": [
      "--2016-10-24 15:51:55--  https://raw.githubusercontent.com/gwsb-istm-6212-fall-2016/syllabus-and-schedule/master/exercises/abq-food-inspections-fy2010.csv\n",
      "Resolving raw.githubusercontent.com (raw.githubusercontent.com)... 151.101.32.133\n",
      "Connecting to raw.githubusercontent.com (raw.githubusercontent.com)|151.101.32.133|:443... connected.\n",
      "HTTP request sent, awaiting response... 200 OK\n",
      "Length: 5025226 (4.8M) [text/plain]\n",
      "Saving to: ‘abq-food-inspections-fy2010.csv’\n",
      "\n",
      "abq-food-inspection 100%[=====================>]   4.79M  --.-KB/s   in 0.1s   \n",
      "\n",
      "2016-10-24 15:51:55 (50.1 MB/s) - ‘abq-food-inspections-fy2010.csv’ saved [5025226/5025226]\n",
      "\n"
     ]
    }
   ],
   "source": [
    "!wget https://raw.githubusercontent.com/gwsb-istm-6212-fall-2016/syllabus-and-schedule/master/exercises/abq-food-inspections-fy2010.csv"
   ]
  },
  {
   "cell_type": "markdown",
   "metadata": {},
   "source": [
    "## Problem 1 - examine the data (35 points)\n",
    "\n",
    "Use `csvstat` and other tools as you see fit and observe its contents.  Review the metadata definitions linked to above.  Describe what you see:  What do all the columns mean?  Are there null values?  Which columns interest you the most?  Which columns present some complications or questions you would like to ask?"
   ]
  },
  {
   "cell_type": "markdown",
   "metadata": {},
   "source": [
    "Insert a combination of code and text/markdown cells here to review the data and describe what you find."
   ]
  },
  {
   "cell_type": "markdown",
   "metadata": {},
   "source": [
    "ANSWER:\n",
    "\n",
    "After downloading the data we first rename the file to the name \"inspections.csv\". Now we find how many lines of data it has, attribute names and then we find the attribute metadata "
   ]
  },
  {
   "cell_type": "code",
   "execution_count": 2,
   "metadata": {
    "collapsed": true
   },
   "outputs": [],
   "source": [
    "!mv abq-food-inspections-fy2010.csv inspections.csv"
   ]
  },
  {
   "cell_type": "code",
   "execution_count": 3,
   "metadata": {
    "collapsed": false
   },
   "outputs": [
    {
     "name": "stdout",
     "output_type": "stream",
     "text": [
      "17557 inspections.csv\r\n"
     ]
    }
   ],
   "source": [
    "!wc -l inspections.csv"
   ]
  },
  {
   "cell_type": "code",
   "execution_count": 4,
   "metadata": {
    "collapsed": false
   },
   "outputs": [
    {
     "name": "stdout",
     "output_type": "stream",
     "text": [
      "  1: FACILITY_NAME\r\n",
      "  2: FACILITY_KEY\r\n",
      "  3: SITE_ADDRESS\r\n",
      "  4: CITY\r\n",
      "  5: STATE\r\n",
      "  6: ZIP\r\n",
      "  7: OWNER_KEY\r\n",
      "  8: OWNER_NAME\r\n",
      "  9: NATURE_OF_BUSINESS\r\n",
      " 10: STREET_NUMBER\r\n",
      " 11: STREET_NAME\r\n",
      " 12: STREET_TYPE\r\n",
      " 13: POST_DIRECTIONAL\r\n",
      " 14: PHONE\r\n",
      " 15: PROGRAM_CATEGORY\r\n",
      " 16: PROGRAM_CATEGORY_DESCRIPTION\r\n",
      " 17: INSPECTION_DATE\r\n",
      " 18: INSPECTION_TYPE\r\n",
      " 19: INSPECTION_DESC\r\n",
      " 20: SERIAL_NUM\r\n",
      " 21: ACTION_CODE\r\n",
      " 22: ACTION_DESC\r\n",
      " 23: RESULT_CODE\r\n",
      " 24: RESULT_DESC\r\n",
      " 25: VIOLATION_CODE\r\n",
      " 26: VIOLATION_DESC\r\n",
      " 27: INSPECTION_MEMO\r\n"
     ]
    }
   ],
   "source": [
    "!csvcut -n inspections.csv"
   ]
  },
  {
   "cell_type": "code",
   "execution_count": 5,
   "metadata": {
    "collapsed": false
   },
   "outputs": [
    {
     "name": "stdout",
     "output_type": "stream",
     "text": [
      "  1. FACILITY_NAME\n",
      "\t<class 'str'>\n",
      "\tNulls: False\n",
      "\tUnique values: 2615\n",
      "\t5 most frequent values:\n",
      "\t\tSMITHS FOOD AND DRUG CENTERS INC:\t154\n",
      "\t\tISOTOPES PARK - OVATIONS:\t93\n",
      "\t\tPER EHSII CECELIA GARCIA OOB LA REYNA DEL SUR:\t85\n",
      "\t\tISLETA AMPHITHEATER:\t68\n",
      "\t\tECHO INC:\t68\n",
      "\tMax length: 77\n",
      "  2. FACILITY_KEY\n",
      "\t<class 'int'>\n",
      "\tNulls: False\n",
      "\tMin: 13\n",
      "\tMax: 101482\n",
      "\tSum: 820405773\n",
      "\tMean: 46730.79135338346\n",
      "\tMedian: 50866.0\n",
      "\tStandard Deviation: 32659.794578837962\n",
      "\tUnique values: 2835\n",
      "\t5 most frequent values:\n",
      "\t\t46323:\t93\n",
      "\t\t65863:\t85\n",
      "\t\t80949:\t68\n",
      "\t\t32817:\t68\n",
      "\t\t91825:\t66\n",
      "  3. SITE_ADDRESS\n",
      "\t<class 'str'>\n",
      "\tNulls: True\n",
      "\tUnique values: 2456\n",
      "\t5 most frequent values:\n",
      "\t\t1601 AVENIDA CESAR CHAVEZ SE:\t94\n",
      "\t\t644 OLD COORS BLVD SW:\t85\n",
      "\t\t8601 CENTRAL AV NE:\t77\n",
      "\t\t2200 SUNPORT BLVD SE:\t75\n",
      "\t\t5210 CENTRAL AV SE:\t73\n",
      "\tMax length: 35\n",
      "  4. CITY\n",
      "\t<class 'str'>\n",
      "\tNulls: False\n",
      "\tValues: ALBUQUERQUE\n",
      "  5. STATE\n",
      "\t<class 'str'>\n",
      "\tNulls: False\n",
      "\tValues: NM, 87\n",
      "  6. ZIP\n",
      "\t<class 'str'>\n",
      "\tNulls: False\n",
      "\tUnique values: 48\n",
      "\t5 most frequent values:\n",
      "\t\t87110:\t1996\n",
      "\t\t87108:\t1976\n",
      "\t\t87102:\t1601\n",
      "\t\t87106:\t1568\n",
      "\t\t87109:\t1552\n",
      "\tMax length: 10\n",
      "  7. OWNER_KEY\n",
      "\t<class 'int'>\n",
      "\tNulls: False\n",
      "\tMin: 11\n",
      "\tMax: 87302\n",
      "\tSum: 644760848\n",
      "\tMean: 36725.953975848715\n",
      "\tMedian: 33747.0\n",
      "\tStandard Deviation: 29428.207216739836\n",
      "\tUnique values: 1892\n",
      "\t5 most frequent values:\n",
      "\t\t1838:\t792\n",
      "\t\t3537:\t321\n",
      "\t\t1272:\t228\n",
      "\t\t36280:\t156\n",
      "\t\t80274:\t155\n",
      "  8. OWNER_NAME\n",
      "\t<class 'str'>\n",
      "\tNulls: False\n",
      "\tUnique values: 1852\n",
      "\t5 most frequent values:\n",
      "\t\tAPS:\t792\n",
      "\t\tSMITHS FOOD AND DRUG CENTERS INC:\t321\n",
      "\t\tCIRCLE K STORES INC:\t277\n",
      "\t\tALBERTSONS:\t228\n",
      "\t\tWAL MART STORES EAST  LP:\t156\n",
      "\tMax length: 82\n",
      "  9. NATURE_OF_BUSINESS\n",
      "\t<class 'str'>\n",
      "\tNulls: True\n",
      "\tUnique values: 594\n",
      "\t5 most frequent values:\n",
      "\t\tRESTAURANT:\t4994\n",
      "\t\tFOOD SERVICE:\t691\n",
      "\t\tGROCERY:\t618\n",
      "\t\tBAR/RESTAURANT:\t508\n",
      "\t\tAPS SCHOOL FOOD SERVICE:\t470\n",
      "\tMax length: 25\n",
      " 10. STREET_NUMBER\n",
      "\t<class 'str'>\n",
      "\tNulls: True\n",
      "\tUnique values: 1349\n",
      "\t5 most frequent values:\n",
      "\t\t6600:\t216\n",
      "\t\t10000:\t152\n",
      "\t\t300:\t143\n",
      "\t\t2200:\t127\n",
      "\t\t8100:\t125\n",
      "\tMax length: 7\n",
      " 11. STREET_NAME\n",
      "\t<class 'str'>\n",
      "\tNulls: True\n",
      "\tUnique values: 404\n",
      "\t5 most frequent values:\n",
      "\t\tCENTRAL:\t1898\n",
      "\t\tMENAUL:\t928\n",
      "\t\tCOORS:\t918\n",
      "\t\tMONTGOMERY:\t727\n",
      "\t\tSAN MATEO:\t707\n",
      "\tMax length: 24\n",
      " 12. STREET_TYPE\n",
      "\t<class 'str'>\n",
      "\tNulls: True\n",
      "\tUnique values: 13\n",
      "\t5 most frequent values:\n",
      "\t\tBLVD:\t7636\n",
      "\t\tAV:\t3005\n",
      "\t\tST:\t2065\n",
      "\t\tRD:\t1900\n",
      "\t\tDR:\t995\n",
      "\tMax length: 4\n",
      " 13. POST_DIRECTIONAL\n",
      "\t<class 'str'>\n",
      "\tNulls: True\n",
      "\tValues: NW, N, NE, SW, SE\n",
      " 14. PHONE\n",
      "\t<class 'int'>\n",
      "\tNulls: True\n",
      "\tMin: 2471094\n",
      "\tMax: 505345566137310\n",
      "\tSum: 2608539289633190\n",
      "\tMean: 161719732773.29138\n",
      "\tMedian: 5053454060.0\n",
      "\tStandard Deviation: 8895791545525.992\n",
      "\tUnique values: 2279\n",
      "\t5 most frequent values:\n",
      "\t\t9153321301:\t101\n",
      "\t\t3037929467:\t100\n",
      "\t\t5052224033:\t94\n",
      "\t\t3109680646:\t85\n",
      "\t\t2122383000:\t68\n",
      " 15. PROGRAM_CATEGORY\n",
      "\t<class 'str'>\n",
      "\tNulls: False\n",
      "\tUnique values: 25\n",
      "\t5 most frequent values:\n",
      "\t\t0406:\t7969\n",
      "\t\t0601:\t1159\n",
      "\t\t0607:\t894\n",
      "\t\t0606:\t865\n",
      "\t\t0408:\t832\n",
      "\tMax length: 4\n",
      " 16. PROGRAM_CATEGORY_DESCRIPTION\n",
      "\t<class 'str'>\n",
      "\tNulls: True\n",
      "\tUnique values: 24\n",
      "\t5 most frequent values:\n",
      "\t\tFood Service Establishment:\t7969\n",
      "\t\tRetail -Grocery:\t1159\n",
      "\t\tRetail - Self Service & Prepackage Foods:\t894\n",
      "\t\tRetail - Prepackage Only:\t865\n",
      "\t\tBar:\t832\n",
      "\tMax length: 40\n",
      " 17. INSPECTION_DATE\n",
      "\t<class 'datetime.date'>\n",
      "\tNulls: False\n",
      "\tMin: 2009-07-01\n",
      "\tMax: 2010-06-30\n",
      "\tUnique values: 258\n",
      "\t5 most frequent values:\n",
      "\t\t2009-12-16:\t184\n",
      "\t\t2009-09-10:\t159\n",
      "\t\t2009-09-25:\t148\n",
      "\t\t2009-11-04:\t133\n",
      "\t\t2009-10-01:\t131\n",
      " 18. INSPECTION_TYPE\n",
      "\t<class 'NoneType'>\n",
      "\tNulls: True\n",
      "\tValues: \n",
      " 19. INSPECTION_DESC\n",
      "\t<class 'str'>\n",
      "\tNulls: False\n",
      "\tUnique values: 15\n",
      "\t5 most frequent values:\n",
      "\t\tROUTINE FOOD INSPECTION:\t12439\n",
      "\t\tEMERGENCY RESPONSE:\t1987\n",
      "\t\tNew Business Inspection:\t1005\n",
      "\t\tPRE-OPENING FOOD INSPECTION:\t743\n",
      "\t\tADDITIONAL SERVICE PROVIDED:\t439\n",
      "\tMax length: 32\n",
      " 20. SERIAL_NUM\n",
      "\t<class 'str'>\n",
      "\tNulls: False\n",
      "\tUnique values: 9046\n",
      "\t5 most frequent values:\n",
      "\t\tDA0047290:\t61\n",
      "\t\tDA0045676:\t61\n",
      "\t\tDA0045731:\t61\n",
      "\t\tDA0047720:\t61\n",
      "\t\tDA0059230:\t61\n",
      "\tMax length: 9\n",
      " 21. ACTION_CODE\n",
      "\t<class 'str'>\n",
      "\tNulls: False\n",
      "\tUnique values: 8\n",
      "\t5 most frequent values:\n",
      "\t\t11:\t14080\n",
      "\t\t00:\t2800\n",
      "\t\t09:\t382\n",
      "\t\t06:\t264\n",
      "\t\t10:\t21\n",
      "\tMax length: 2\n",
      " 22. ACTION_DESC\n",
      "\t<class 'str'>\n",
      "\tNulls: False\n",
      "\tUnique values: 8\n",
      "\t5 most frequent values:\n",
      "\t\tAPPROVED:\t14080\n",
      "\t\tNON-GRADED:\t2800\n",
      "\t\tANNUAL STICKER ISSUED:\t382\n",
      "\t\tUNSATISFACTORY:\t264\n",
      "\t\tANNUAL STICKER NOT ISSUED:\t21\n",
      "\tMax length: 34\n",
      " 23. RESULT_CODE\n",
      "\t<class 'str'>\n",
      "\tNulls: False\n",
      "\tUnique values: 19\n",
      "\t5 most frequent values:\n",
      "\t\t03:\t14389\n",
      "\t\t00:\t2416\n",
      "\t\t05:\t214\n",
      "\t\t22:\t142\n",
      "\t\t18:\t104\n",
      "\tMax length: 2\n",
      " 24. RESULT_DESC\n",
      "\t<class 'str'>\n",
      "\tNulls: False\n",
      "\tUnique values: 19\n",
      "\t5 most frequent values:\n",
      "\t\tIN COMPLIANCE:\t14389\n",
      "\t\tNOT APPLICABLE:\t2416\n",
      "\t\tDOWNGRADE:\t214\n",
      "\t\tOUT OF BUSINESS:\t142\n",
      "\t\tTRAINING RECEIVED:\t104\n",
      "\tMax length: 37\n",
      " 25. VIOLATION_CODE\n",
      "\t<class 'str'>\n",
      "\tNulls: True\n",
      "\tUnique values: 128\n",
      "\t5 most frequent values:\n",
      "\t\t55:\t6348\n",
      "\t\t00:\t3429\n",
      "\t\t68:\t1658\n",
      "\t\t42:\t487\n",
      "\t\t35:\t441\n",
      "\tMax length: 10\n",
      " 26. VIOLATION_DESC\n",
      "\t<class 'str'>\n",
      "\tNulls: True\n",
      "\tUnique values: 70\n",
      "\t5 most frequent values:\n",
      "\t\tAdditional Comments:\t6353\n",
      "\t\tNo Violations Found:\t3434\n",
      "\t\tDelivered Informational Brochure:\t1657\n",
      "\t\tPlumbing: Improperly installed/maintained/supplied:\t492\n",
      "\t\tNon-Food contact surfaces:\t446\n",
      "\tMax length: 50\n",
      " 27. INSPECTION_MEMO\n",
      "\t<class 'NoneType'>\n",
      "\tNulls: True\n",
      "\tValues: \n",
      "\n",
      "Row count: 17556\n"
     ]
    }
   ],
   "source": [
    "!csvstat inspections.csv"
   ]
  },
  {
   "cell_type": "markdown",
   "metadata": {},
   "source": [
    "Data Description:\n",
    "    \n",
    "  The food inspection data has 17557 rows of data with 27 columns. The 27 columns descriptions are as follows:\n",
    "        \n",
    "  1: FACILITY_NAME: Name of the restaurant/cafe where the inspection took place.\n",
    "  \n",
    "  2: FACILITY_KEY: The identifier key used to uniquely identify to the place of inspection. This is used as a Primary Key in this data. \n",
    "  \n",
    "  3: SITE_ADDRESS: Street address of the inspection location \n",
    "  \n",
    "  4: CITY: The City of the facility where the inspection took place.\n",
    "  \n",
    "  5: STATE: The State of the facility where the inspection took place.\n",
    "  \n",
    "  6: ZIP: The Zipcode of the facility where the inspection took place.\n",
    "  \n",
    "  7: OWNER_KEY: The indetifier key which is used to uniquely identify the owner of the place of inspection. \n",
    "  \n",
    "  8: OWNER_NAME : The Name of the owner of the facility where inspection took place. \n",
    "  \n",
    "  9: NATURE_OF_BUSINESS : This variable explains about the type of the business the facility deals with\n",
    "  \n",
    " 10: STREET_NUMBER: Gives the street name of the facility which was inspected\n",
    " \n",
    " 11: STREET_NAME: Gives the street name of the facility which was inspected\n",
    " \n",
    " 12: STREET_TYPE: Gives the street type of the facility which was inspected\n",
    " \n",
    " 13: POST_DIRECTIONAL: Gives the postal direction of the facility which was inspected\n",
    " 14: PHONE: Gives the phone number of the facility which was inspected\n",
    " \n",
    " 15: PROGRAM_CATEGORY: Gives the identifier key of the type of facility in which inspection was conducted.\n",
    " \n",
    " 16: PROGRAM_CATEGORY_DESCRIPTION: Gives the description of the type of facility in which inspection was conducted.\n",
    " \n",
    " 17: INSPECTION_DATE: Gives the date on which the inspection was conducted.\n",
    " \n",
    " 18: INSPECTION_TYPE: Gives the code for the particular type of inspection.\n",
    " \n",
    " 19: INSPECTION_DESC: Gives the description for the Inspection.\n",
    " \n",
    " 20: SERIAL_NUM: Gives a unique identifier to each of the Inspection carried out. It can have multiple values for the same facility and the date which means several inspections were carried out on the same day and they are arranged in chronological order of time.\n",
    " \n",
    " 21: ACTION_CODE: Give a code to the Action taken on the facility.\n",
    " \n",
    " 22: ACTION_DESC: Gives the description of the action taken on the facility\n",
    " \n",
    " 23: RESULT_CODE: Gives a code to the result.\n",
    " \n",
    " 24: RESULT_DESC: Gives the description to the result of the inspection.\n",
    " \n",
    " 25: VIOLATION_CODE: Gives a particular code to the violation.\n",
    " \n",
    " 26: VIOLATION_DESC: Gives the description to the violation.\n",
    " \n",
    " 27: INSPECTION_MEMO: Gives the notes written by the inspection officer.\n",
    " \n",
    " \n",
    " After closely observing the output of the csvstat command we can see that the following columns have Null values in the dataset: \n",
    " \n",
    " 1: SITE_ADDRESS\n",
    " \n",
    " 2: NATURE_OF_BUSINESS\n",
    " \n",
    " 3: STREET_NUMBER\n",
    " \n",
    " 4: STREET_NAME\n",
    " \n",
    " 5: STREET_TYPE\n",
    " \n",
    " 6: POST_DIRECTIONAL\n",
    " \n",
    " 7: PHONE\n",
    " \n",
    " 8: PROGRAM_CATEGORY_DESCRIPTION\n",
    " \n",
    " 9: INSPECTION_TYPE (All the rows are empty for this variable)\n",
    " \n",
    " 10: VIOLATION_CODE\n",
    " \n",
    " 11: VIOLATION_DESC\n",
    " \n",
    " 12: INSPECTION_MEMO (All the rows are empty for this variable)\n",
    " \n",
    " \n",
    " The Columns which interest me the most are:\n",
    " \n",
    " 1: FACILITY_NAME\n",
    " \n",
    " 2: FACILITY_KEY\n",
    " \n",
    " 3: SITE_ADDRESS\n",
    " \n",
    " 4: ZIP\n",
    " \n",
    " 5: OWNER_KEY\n",
    " \n",
    " 6: OWNER_NAME\n",
    " \n",
    " 7: NATURE_OF_BUSINESS\n",
    " \n",
    " 8: STREET_NAME\n",
    " \n",
    " 9: STREET_TYPE\n",
    " \n",
    " 10: PHONE\n",
    " \n",
    " 11: PROGRAM_CATEGORY\n",
    " \n",
    " 12: PROGRAM_CATEGORY_DESCRIPTION\n",
    " \n",
    " 13: INSPECTION_DATE\n",
    " \n",
    " 14: INSPECTION_DESC\n",
    " \n",
    " 15: SERIAL_NUM\n",
    " \n",
    " 16: ACTION_CODE\n",
    " \n",
    " 17: ACTION_DESC\n",
    " \n",
    " 18: RESULT_CODE\n",
    " \n",
    " 19: RESULT_DESC\n",
    " \n",
    " 20: VIOLATION_CODE\n",
    " \n",
    " 21: VIOLATION_DESC\n",
    "\n",
    "According to my analysis the above columns will help in deriving insights from the data.  I removed the CITY and STATE variables as they are same throughout the data.I also removed the variables STREET_NUMBER,POST_DIRECTIONAL,INSPECTION_TYPE and INSPECTION_MEMO inorder to proceed with the analysis.\n",
    "\n",
    "\n",
    "The column STATE has complication as for few data points the state is given as \"87\". The column \"Phone\" also has a complication as for few datapoints the phone number is entered wrong as \"505345566137310\". The phone number cannot be longer than 10 digits and hence its a complication."
   ]
  },
  {
   "cell_type": "markdown",
   "metadata": {},
   "source": [
    "## Problem 2 - define a database model and load the data (35 points)\n",
    "\n",
    "Based on what you found above, create and connect to a new database, define a database table in it, and load this dataset into it.  You may use either of the methods for this step you have seen in earlier class notebooks.  You may choose to eliminate variables/columns if they are not relevant or interesting to you - explain your reasoning if you do.  Either way, you should load a majority of the columns present in the source dataset into the database and all of its rows.\n",
    "\n",
    "Once your data has loaded successfully, run a `COUNT(*)` query to verify that all the data has loaded correctly.\n",
    "\n",
    "Insert a combination of code and text/markdown cells here to connect to your database, define your table, load its data, and verify the loaded records."
   ]
  },
  {
   "cell_type": "markdown",
   "metadata": {},
   "source": [
    "First we will connect to the postgreSQL"
   ]
  },
  {
   "cell_type": "code",
   "execution_count": 6,
   "metadata": {
    "collapsed": false
   },
   "outputs": [
    {
     "name": "stdout",
     "output_type": "stream",
     "text": [
      "[sudo] password for jovyan: Restarting PostgreSQL 9.5 database server: main.\n"
     ]
    }
   ],
   "source": [
    "!echo 'redspot' | sudo -S service postgresql restart"
   ]
  },
  {
   "cell_type": "code",
   "execution_count": 7,
   "metadata": {
    "collapsed": false
   },
   "outputs": [
    {
     "name": "stderr",
     "output_type": "stream",
     "text": [
      "/opt/conda/lib/python3.5/site-packages/IPython/config.py:13: ShimWarning: The `IPython.config` package has been deprecated. You should import from traitlets.config instead.\n",
      "  \"You should import from traitlets.config instead.\", ShimWarning)\n",
      "/opt/conda/lib/python3.5/site-packages/IPython/utils/traitlets.py:5: UserWarning: IPython.utils.traitlets has moved to a top-level traitlets package.\n",
      "  warn(\"IPython.utils.traitlets has moved to a top-level traitlets package.\")\n"
     ]
    }
   ],
   "source": [
    "%load_ext sql"
   ]
  },
  {
   "cell_type": "code",
   "execution_count": 8,
   "metadata": {
    "collapsed": false
   },
   "outputs": [],
   "source": [
    "!createdb -U dbuser excercise4"
   ]
  },
  {
   "cell_type": "code",
   "execution_count": 9,
   "metadata": {
    "collapsed": false
   },
   "outputs": [
    {
     "data": {
      "text/plain": [
       "'Connected: dbuser@excercise4'"
      ]
     },
     "execution_count": 9,
     "metadata": {},
     "output_type": "execute_result"
    }
   ],
   "source": [
    "%sql postgresql://dbuser@localhost:5432/excercise4"
   ]
  },
  {
   "cell_type": "markdown",
   "metadata": {},
   "source": [
    "As we connected to the database excercise4. Now we need to dump the data from the inspections.csv file to a database table called inspections. From the analysis we made in question 1 using csvstat we can now decide the attributes domains and ranges."
   ]
  },
  {
   "cell_type": "code",
   "execution_count": 10,
   "metadata": {
    "collapsed": false
   },
   "outputs": [
    {
     "name": "stdout",
     "output_type": "stream",
     "text": [
      "Done.\n",
      "Done.\n"
     ]
    },
    {
     "data": {
      "text/plain": [
       "[]"
      ]
     },
     "execution_count": 10,
     "metadata": {},
     "output_type": "execute_result"
    }
   ],
   "source": [
    "%%sql\n",
    "\n",
    "DROP TABLE IF EXISTS inspections;\n",
    "\n",
    "CREATE TABLE inspections (\n",
    "    facility_name VARCHAR(100),\n",
    "    facility_key INTEGER,\n",
    "    site_address VARCHAR(50),\n",
    "    city CHAR(15),\n",
    "    state CHAR(15),\n",
    "    zip CHAR(15),\n",
    "    owner_key INTEGER,\n",
    "    owner_name VARCHAR(100),\n",
    "    nature_of_business VARCHAR(30),\n",
    "    street_number CHAR(10),\n",
    "    street_name VARCHAR(30),\n",
    "    street_type CHAR(10),\n",
    "    post_directional CHAR(10),\n",
    "    phone BIGINT,\n",
    "    program_category CHAR(10),\n",
    "    program_category_desc VARCHAR (50),\n",
    "    inspection_date TIMESTAMP,\n",
    "    inspection_type CHAR(10),\n",
    "    inspection_desc VARCHAR(40),\n",
    "    serial_num CHAR(15),\n",
    "    action_code CHAR(10),\n",
    "    action_desc VARCHAR(40),\n",
    "    result_code CHAR(5),\n",
    "    result_desc VARCHAR(45),\n",
    "    violation_code CHAR(15),\n",
    "    violation_desc VARCHAR(150),\n",
    "    inspection_memo VARCHAR(50)\n",
    ");"
   ]
  },
  {
   "cell_type": "markdown",
   "metadata": {},
   "source": [
    "As we created an empty table, we need to copy the data from the file inspections.csv to the table inspections."
   ]
  },
  {
   "cell_type": "code",
   "execution_count": 11,
   "metadata": {
    "collapsed": false
   },
   "outputs": [
    {
     "name": "stdout",
     "output_type": "stream",
     "text": [
      "/home/jovyan/work\r\n"
     ]
    }
   ],
   "source": [
    "!pwd"
   ]
  },
  {
   "cell_type": "code",
   "execution_count": 12,
   "metadata": {
    "collapsed": false
   },
   "outputs": [
    {
     "name": "stdout",
     "output_type": "stream",
     "text": [
      "17556 rows affected.\n"
     ]
    },
    {
     "data": {
      "text/plain": [
       "[]"
      ]
     },
     "execution_count": 12,
     "metadata": {},
     "output_type": "execute_result"
    }
   ],
   "source": [
    "%%sql\n",
    "\n",
    "COPY inspections FROM '/home/jovyan/work/inspections.csv'\n",
    "CSV\n",
    "HEADER\n",
    "QUOTE '\"'\n",
    "DELIMITER ',';"
   ]
  },
  {
   "cell_type": "code",
   "execution_count": 13,
   "metadata": {
    "collapsed": false
   },
   "outputs": [
    {
     "name": "stdout",
     "output_type": "stream",
     "text": [
      "1 rows affected.\n"
     ]
    },
    {
     "data": {
      "text/html": [
       "<table>\n",
       "    <tr>\n",
       "        <th>count</th>\n",
       "    </tr>\n",
       "    <tr>\n",
       "        <td>17556</td>\n",
       "    </tr>\n",
       "</table>"
      ],
      "text/plain": [
       "[(17556,)]"
      ]
     },
     "execution_count": 13,
     "metadata": {},
     "output_type": "execute_result"
    }
   ],
   "source": [
    "%%sql\n",
    "SELECT COUNT(*) FROM inspections;"
   ]
  },
  {
   "cell_type": "code",
   "execution_count": 14,
   "metadata": {
    "collapsed": false
   },
   "outputs": [
    {
     "name": "stdout",
     "output_type": "stream",
     "text": [
      "5 rows affected.\n"
     ]
    },
    {
     "data": {
      "text/html": [
       "<table>\n",
       "    <tr>\n",
       "        <th>facility_name</th>\n",
       "        <th>facility_key</th>\n",
       "        <th>site_address</th>\n",
       "        <th>city</th>\n",
       "        <th>state</th>\n",
       "        <th>zip</th>\n",
       "        <th>owner_key</th>\n",
       "        <th>owner_name</th>\n",
       "        <th>nature_of_business</th>\n",
       "        <th>street_number</th>\n",
       "        <th>street_name</th>\n",
       "        <th>street_type</th>\n",
       "        <th>post_directional</th>\n",
       "        <th>phone</th>\n",
       "        <th>program_category</th>\n",
       "        <th>program_category_desc</th>\n",
       "        <th>inspection_date</th>\n",
       "        <th>inspection_type</th>\n",
       "        <th>inspection_desc</th>\n",
       "        <th>serial_num</th>\n",
       "        <th>action_code</th>\n",
       "        <th>action_desc</th>\n",
       "        <th>result_code</th>\n",
       "        <th>result_desc</th>\n",
       "        <th>violation_code</th>\n",
       "        <th>violation_desc</th>\n",
       "        <th>inspection_memo</th>\n",
       "    </tr>\n",
       "    <tr>\n",
       "        <td>00BSAY IT WITH CAKE</td>\n",
       "        <td>50534</td>\n",
       "        <td>10200 GOLF COURSE RD NW STE B</td>\n",
       "        <td>ALBUQUERQUE    </td>\n",
       "        <td>NM             </td>\n",
       "        <td>87114          </td>\n",
       "        <td>47341</td>\n",
       "        <td>OOBSAY IT WITH CAKE</td>\n",
       "        <td>CAKE DECORATING</td>\n",
       "        <td>10200     </td>\n",
       "        <td>GOLF COURSE</td>\n",
       "        <td>RD        </td>\n",
       "        <td>NW        </td>\n",
       "        <td>5058339563</td>\n",
       "        <td>0405      </td>\n",
       "        <td>Food Processor</td>\n",
       "        <td>2009-10-21 00:00:00</td>\n",
       "        <td>None</td>\n",
       "        <td>EMERGENCY RESPONSE</td>\n",
       "        <td>DA8009125      </td>\n",
       "        <td>00        </td>\n",
       "        <td>NON-GRADED</td>\n",
       "        <td>00   </td>\n",
       "        <td>NOT APPLICABLE</td>\n",
       "        <td>&nbsp;&nbsp;&nbsp;&nbsp;68         </td>\n",
       "        <td>Delivered Informational Brochure</td>\n",
       "        <td>None</td>\n",
       "    </tr>\n",
       "    <tr>\n",
       "        <td>00BSAY IT WITH CAKE</td>\n",
       "        <td>50534</td>\n",
       "        <td>10200 GOLF COURSE RD NW STE B</td>\n",
       "        <td>ALBUQUERQUE    </td>\n",
       "        <td>NM             </td>\n",
       "        <td>87114          </td>\n",
       "        <td>47341</td>\n",
       "        <td>OOBSAY IT WITH CAKE</td>\n",
       "        <td>CAKE DECORATING</td>\n",
       "        <td>10200     </td>\n",
       "        <td>GOLF COURSE</td>\n",
       "        <td>RD        </td>\n",
       "        <td>NW        </td>\n",
       "        <td>5058339563</td>\n",
       "        <td>0405      </td>\n",
       "        <td>Food Processor</td>\n",
       "        <td>2009-10-21 00:00:00</td>\n",
       "        <td>None</td>\n",
       "        <td>ROUTINE FOOD INSPECTION</td>\n",
       "        <td>DA8009123      </td>\n",
       "        <td>11        </td>\n",
       "        <td>APPROVED</td>\n",
       "        <td>03   </td>\n",
       "        <td>IN COMPLIANCE</td>\n",
       "        <td>&nbsp;&nbsp;&nbsp;&nbsp;00         </td>\n",
       "        <td>No Violations Found</td>\n",
       "        <td>None</td>\n",
       "    </tr>\n",
       "    <tr>\n",
       "        <td>00BSAY IT WITH CAKE</td>\n",
       "        <td>50534</td>\n",
       "        <td>10200 GOLF COURSE RD NW STE B</td>\n",
       "        <td>ALBUQUERQUE    </td>\n",
       "        <td>NM             </td>\n",
       "        <td>87114          </td>\n",
       "        <td>47341</td>\n",
       "        <td>OOBSAY IT WITH CAKE</td>\n",
       "        <td>CAKE DECORATING</td>\n",
       "        <td>10200     </td>\n",
       "        <td>GOLF COURSE</td>\n",
       "        <td>RD        </td>\n",
       "        <td>NW        </td>\n",
       "        <td>5058339563</td>\n",
       "        <td>0405      </td>\n",
       "        <td>Food Processor</td>\n",
       "        <td>2009-10-21 00:00:00</td>\n",
       "        <td>None</td>\n",
       "        <td>ROUTINE FOOD INSPECTION</td>\n",
       "        <td>DA8009123      </td>\n",
       "        <td>11        </td>\n",
       "        <td>APPROVED</td>\n",
       "        <td>03   </td>\n",
       "        <td>IN COMPLIANCE</td>\n",
       "        <td>&nbsp;&nbsp;&nbsp;&nbsp;55         </td>\n",
       "        <td>Additional Comments</td>\n",
       "        <td>None</td>\n",
       "    </tr>\n",
       "    <tr>\n",
       "        <td>00BSAY IT WITH CAKE</td>\n",
       "        <td>50534</td>\n",
       "        <td>10200 GOLF COURSE RD NW STE B</td>\n",
       "        <td>ALBUQUERQUE    </td>\n",
       "        <td>NM             </td>\n",
       "        <td>87114          </td>\n",
       "        <td>47341</td>\n",
       "        <td>OOBSAY IT WITH CAKE</td>\n",
       "        <td>CAKE DECORATING</td>\n",
       "        <td>10200     </td>\n",
       "        <td>GOLF COURSE</td>\n",
       "        <td>RD        </td>\n",
       "        <td>NW        </td>\n",
       "        <td>5058339563</td>\n",
       "        <td>0405      </td>\n",
       "        <td>Food Processor</td>\n",
       "        <td>2010-04-14 00:00:00</td>\n",
       "        <td>None</td>\n",
       "        <td>ROUTINE FOOD INSPECTION</td>\n",
       "        <td>DA8010205      </td>\n",
       "        <td>11        </td>\n",
       "        <td>APPROVED</td>\n",
       "        <td>03   </td>\n",
       "        <td>IN COMPLIANCE</td>\n",
       "        <td>&nbsp;&nbsp;&nbsp;&nbsp;00         </td>\n",
       "        <td>No Violations Found</td>\n",
       "        <td>None</td>\n",
       "    </tr>\n",
       "    <tr>\n",
       "        <td>00BSAY IT WITH CAKE</td>\n",
       "        <td>50534</td>\n",
       "        <td>10200 GOLF COURSE RD NW STE B</td>\n",
       "        <td>ALBUQUERQUE    </td>\n",
       "        <td>NM             </td>\n",
       "        <td>87114          </td>\n",
       "        <td>47341</td>\n",
       "        <td>OOBSAY IT WITH CAKE</td>\n",
       "        <td>CAKE DECORATING</td>\n",
       "        <td>10200     </td>\n",
       "        <td>GOLF COURSE</td>\n",
       "        <td>RD        </td>\n",
       "        <td>NW        </td>\n",
       "        <td>5058339563</td>\n",
       "        <td>0405      </td>\n",
       "        <td>Food Processor</td>\n",
       "        <td>2010-04-14 00:00:00</td>\n",
       "        <td>None</td>\n",
       "        <td>ROUTINE FOOD INSPECTION</td>\n",
       "        <td>DA8010205      </td>\n",
       "        <td>11        </td>\n",
       "        <td>APPROVED</td>\n",
       "        <td>03   </td>\n",
       "        <td>IN COMPLIANCE</td>\n",
       "        <td>&nbsp;&nbsp;&nbsp;&nbsp;55         </td>\n",
       "        <td>Additional Comments</td>\n",
       "        <td>None</td>\n",
       "    </tr>\n",
       "</table>"
      ],
      "text/plain": [
       "[('00BSAY IT WITH CAKE', 50534, '10200 GOLF COURSE RD NW STE B', 'ALBUQUERQUE    ', 'NM             ', '87114          ', 47341, 'OOBSAY IT WITH CAKE', 'CAKE DECORATING', '10200     ', 'GOLF COURSE', 'RD        ', 'NW        ', 5058339563, '0405      ', 'Food Processor', datetime.datetime(2009, 10, 21, 0, 0), None, 'EMERGENCY RESPONSE', 'DA8009125      ', '00        ', 'NON-GRADED', '00   ', 'NOT APPLICABLE', '    68         ', 'Delivered Informational Brochure', None),\n",
       " ('00BSAY IT WITH CAKE', 50534, '10200 GOLF COURSE RD NW STE B', 'ALBUQUERQUE    ', 'NM             ', '87114          ', 47341, 'OOBSAY IT WITH CAKE', 'CAKE DECORATING', '10200     ', 'GOLF COURSE', 'RD        ', 'NW        ', 5058339563, '0405      ', 'Food Processor', datetime.datetime(2009, 10, 21, 0, 0), None, 'ROUTINE FOOD INSPECTION', 'DA8009123      ', '11        ', 'APPROVED', '03   ', 'IN COMPLIANCE', '    00         ', 'No Violations Found', None),\n",
       " ('00BSAY IT WITH CAKE', 50534, '10200 GOLF COURSE RD NW STE B', 'ALBUQUERQUE    ', 'NM             ', '87114          ', 47341, 'OOBSAY IT WITH CAKE', 'CAKE DECORATING', '10200     ', 'GOLF COURSE', 'RD        ', 'NW        ', 5058339563, '0405      ', 'Food Processor', datetime.datetime(2009, 10, 21, 0, 0), None, 'ROUTINE FOOD INSPECTION', 'DA8009123      ', '11        ', 'APPROVED', '03   ', 'IN COMPLIANCE', '    55         ', 'Additional Comments', None),\n",
       " ('00BSAY IT WITH CAKE', 50534, '10200 GOLF COURSE RD NW STE B', 'ALBUQUERQUE    ', 'NM             ', '87114          ', 47341, 'OOBSAY IT WITH CAKE', 'CAKE DECORATING', '10200     ', 'GOLF COURSE', 'RD        ', 'NW        ', 5058339563, '0405      ', 'Food Processor', datetime.datetime(2010, 4, 14, 0, 0), None, 'ROUTINE FOOD INSPECTION', 'DA8010205      ', '11        ', 'APPROVED', '03   ', 'IN COMPLIANCE', '    00         ', 'No Violations Found', None),\n",
       " ('00BSAY IT WITH CAKE', 50534, '10200 GOLF COURSE RD NW STE B', 'ALBUQUERQUE    ', 'NM             ', '87114          ', 47341, 'OOBSAY IT WITH CAKE', 'CAKE DECORATING', '10200     ', 'GOLF COURSE', 'RD        ', 'NW        ', 5058339563, '0405      ', 'Food Processor', datetime.datetime(2010, 4, 14, 0, 0), None, 'ROUTINE FOOD INSPECTION', 'DA8010205      ', '11        ', 'APPROVED', '03   ', 'IN COMPLIANCE', '    55         ', 'Additional Comments', None)]"
      ]
     },
     "execution_count": 14,
     "metadata": {},
     "output_type": "execute_result"
    }
   ],
   "source": [
    "%%sql\n",
    "\n",
    "select * from inspections\n",
    "LIMIT 5;"
   ]
  },
  {
   "cell_type": "markdown",
   "metadata": {},
   "source": [
    "The attributes city and state are not relevant to be present in the database as we already know that we are analyzing the data of Albuquerque city and state New mexico.Throughout the data the attributes city and state are the same and hence we can ignore them.\n",
    "\n",
    "The attributes street_number, post_directional are also present as a part of the site_address attribute and hence it would be redundant data if we include them in our database and hence we can remove them.\n",
    "\n",
    "The attributes Inspection_type and Inspection_memo does not have any data in the inspections.csv file and hence it is wise to remove those columns from our database.\n",
    "\n",
    "Hence we remove the columns city,state, street_number, post_directional,Inspection_type and Inspection_memo from our dataset."
   ]
  },
  {
   "cell_type": "code",
   "execution_count": 15,
   "metadata": {
    "collapsed": false
   },
   "outputs": [
    {
     "name": "stdout",
     "output_type": "stream",
     "text": [
      "Done.\n"
     ]
    },
    {
     "data": {
      "text/plain": [
       "[]"
      ]
     },
     "execution_count": 15,
     "metadata": {},
     "output_type": "execute_result"
    }
   ],
   "source": [
    "%%sql\n",
    "\n",
    "ALTER TABLE inspections\n",
    "DROP COLUMN city,DROP COLUMN state,DROP COLUMN street_number,DROP COLUMN post_directional,DROP COLUMN inspection_type,DROP COLUMN inspection_memo;"
   ]
  },
  {
   "cell_type": "code",
   "execution_count": 16,
   "metadata": {
    "collapsed": false
   },
   "outputs": [
    {
     "name": "stdout",
     "output_type": "stream",
     "text": [
      "5 rows affected.\n"
     ]
    },
    {
     "data": {
      "text/html": [
       "<table>\n",
       "    <tr>\n",
       "        <th>facility_name</th>\n",
       "        <th>facility_key</th>\n",
       "        <th>site_address</th>\n",
       "        <th>zip</th>\n",
       "        <th>owner_key</th>\n",
       "        <th>owner_name</th>\n",
       "        <th>nature_of_business</th>\n",
       "        <th>street_name</th>\n",
       "        <th>street_type</th>\n",
       "        <th>phone</th>\n",
       "        <th>program_category</th>\n",
       "        <th>program_category_desc</th>\n",
       "        <th>inspection_date</th>\n",
       "        <th>inspection_desc</th>\n",
       "        <th>serial_num</th>\n",
       "        <th>action_code</th>\n",
       "        <th>action_desc</th>\n",
       "        <th>result_code</th>\n",
       "        <th>result_desc</th>\n",
       "        <th>violation_code</th>\n",
       "        <th>violation_desc</th>\n",
       "    </tr>\n",
       "    <tr>\n",
       "        <td>00BSAY IT WITH CAKE</td>\n",
       "        <td>50534</td>\n",
       "        <td>10200 GOLF COURSE RD NW STE B</td>\n",
       "        <td>87114          </td>\n",
       "        <td>47341</td>\n",
       "        <td>OOBSAY IT WITH CAKE</td>\n",
       "        <td>CAKE DECORATING</td>\n",
       "        <td>GOLF COURSE</td>\n",
       "        <td>RD        </td>\n",
       "        <td>5058339563</td>\n",
       "        <td>0405      </td>\n",
       "        <td>Food Processor</td>\n",
       "        <td>2009-10-21 00:00:00</td>\n",
       "        <td>EMERGENCY RESPONSE</td>\n",
       "        <td>DA8009125      </td>\n",
       "        <td>00        </td>\n",
       "        <td>NON-GRADED</td>\n",
       "        <td>00   </td>\n",
       "        <td>NOT APPLICABLE</td>\n",
       "        <td>&nbsp;&nbsp;&nbsp;&nbsp;68         </td>\n",
       "        <td>Delivered Informational Brochure</td>\n",
       "    </tr>\n",
       "    <tr>\n",
       "        <td>00BSAY IT WITH CAKE</td>\n",
       "        <td>50534</td>\n",
       "        <td>10200 GOLF COURSE RD NW STE B</td>\n",
       "        <td>87114          </td>\n",
       "        <td>47341</td>\n",
       "        <td>OOBSAY IT WITH CAKE</td>\n",
       "        <td>CAKE DECORATING</td>\n",
       "        <td>GOLF COURSE</td>\n",
       "        <td>RD        </td>\n",
       "        <td>5058339563</td>\n",
       "        <td>0405      </td>\n",
       "        <td>Food Processor</td>\n",
       "        <td>2009-10-21 00:00:00</td>\n",
       "        <td>ROUTINE FOOD INSPECTION</td>\n",
       "        <td>DA8009123      </td>\n",
       "        <td>11        </td>\n",
       "        <td>APPROVED</td>\n",
       "        <td>03   </td>\n",
       "        <td>IN COMPLIANCE</td>\n",
       "        <td>&nbsp;&nbsp;&nbsp;&nbsp;00         </td>\n",
       "        <td>No Violations Found</td>\n",
       "    </tr>\n",
       "    <tr>\n",
       "        <td>00BSAY IT WITH CAKE</td>\n",
       "        <td>50534</td>\n",
       "        <td>10200 GOLF COURSE RD NW STE B</td>\n",
       "        <td>87114          </td>\n",
       "        <td>47341</td>\n",
       "        <td>OOBSAY IT WITH CAKE</td>\n",
       "        <td>CAKE DECORATING</td>\n",
       "        <td>GOLF COURSE</td>\n",
       "        <td>RD        </td>\n",
       "        <td>5058339563</td>\n",
       "        <td>0405      </td>\n",
       "        <td>Food Processor</td>\n",
       "        <td>2009-10-21 00:00:00</td>\n",
       "        <td>ROUTINE FOOD INSPECTION</td>\n",
       "        <td>DA8009123      </td>\n",
       "        <td>11        </td>\n",
       "        <td>APPROVED</td>\n",
       "        <td>03   </td>\n",
       "        <td>IN COMPLIANCE</td>\n",
       "        <td>&nbsp;&nbsp;&nbsp;&nbsp;55         </td>\n",
       "        <td>Additional Comments</td>\n",
       "    </tr>\n",
       "    <tr>\n",
       "        <td>00BSAY IT WITH CAKE</td>\n",
       "        <td>50534</td>\n",
       "        <td>10200 GOLF COURSE RD NW STE B</td>\n",
       "        <td>87114          </td>\n",
       "        <td>47341</td>\n",
       "        <td>OOBSAY IT WITH CAKE</td>\n",
       "        <td>CAKE DECORATING</td>\n",
       "        <td>GOLF COURSE</td>\n",
       "        <td>RD        </td>\n",
       "        <td>5058339563</td>\n",
       "        <td>0405      </td>\n",
       "        <td>Food Processor</td>\n",
       "        <td>2010-04-14 00:00:00</td>\n",
       "        <td>ROUTINE FOOD INSPECTION</td>\n",
       "        <td>DA8010205      </td>\n",
       "        <td>11        </td>\n",
       "        <td>APPROVED</td>\n",
       "        <td>03   </td>\n",
       "        <td>IN COMPLIANCE</td>\n",
       "        <td>&nbsp;&nbsp;&nbsp;&nbsp;00         </td>\n",
       "        <td>No Violations Found</td>\n",
       "    </tr>\n",
       "    <tr>\n",
       "        <td>00BSAY IT WITH CAKE</td>\n",
       "        <td>50534</td>\n",
       "        <td>10200 GOLF COURSE RD NW STE B</td>\n",
       "        <td>87114          </td>\n",
       "        <td>47341</td>\n",
       "        <td>OOBSAY IT WITH CAKE</td>\n",
       "        <td>CAKE DECORATING</td>\n",
       "        <td>GOLF COURSE</td>\n",
       "        <td>RD        </td>\n",
       "        <td>5058339563</td>\n",
       "        <td>0405      </td>\n",
       "        <td>Food Processor</td>\n",
       "        <td>2010-04-14 00:00:00</td>\n",
       "        <td>ROUTINE FOOD INSPECTION</td>\n",
       "        <td>DA8010205      </td>\n",
       "        <td>11        </td>\n",
       "        <td>APPROVED</td>\n",
       "        <td>03   </td>\n",
       "        <td>IN COMPLIANCE</td>\n",
       "        <td>&nbsp;&nbsp;&nbsp;&nbsp;55         </td>\n",
       "        <td>Additional Comments</td>\n",
       "    </tr>\n",
       "</table>"
      ],
      "text/plain": [
       "[('00BSAY IT WITH CAKE', 50534, '10200 GOLF COURSE RD NW STE B', '87114          ', 47341, 'OOBSAY IT WITH CAKE', 'CAKE DECORATING', 'GOLF COURSE', 'RD        ', 5058339563, '0405      ', 'Food Processor', datetime.datetime(2009, 10, 21, 0, 0), 'EMERGENCY RESPONSE', 'DA8009125      ', '00        ', 'NON-GRADED', '00   ', 'NOT APPLICABLE', '    68         ', 'Delivered Informational Brochure'),\n",
       " ('00BSAY IT WITH CAKE', 50534, '10200 GOLF COURSE RD NW STE B', '87114          ', 47341, 'OOBSAY IT WITH CAKE', 'CAKE DECORATING', 'GOLF COURSE', 'RD        ', 5058339563, '0405      ', 'Food Processor', datetime.datetime(2009, 10, 21, 0, 0), 'ROUTINE FOOD INSPECTION', 'DA8009123      ', '11        ', 'APPROVED', '03   ', 'IN COMPLIANCE', '    00         ', 'No Violations Found'),\n",
       " ('00BSAY IT WITH CAKE', 50534, '10200 GOLF COURSE RD NW STE B', '87114          ', 47341, 'OOBSAY IT WITH CAKE', 'CAKE DECORATING', 'GOLF COURSE', 'RD        ', 5058339563, '0405      ', 'Food Processor', datetime.datetime(2009, 10, 21, 0, 0), 'ROUTINE FOOD INSPECTION', 'DA8009123      ', '11        ', 'APPROVED', '03   ', 'IN COMPLIANCE', '    55         ', 'Additional Comments'),\n",
       " ('00BSAY IT WITH CAKE', 50534, '10200 GOLF COURSE RD NW STE B', '87114          ', 47341, 'OOBSAY IT WITH CAKE', 'CAKE DECORATING', 'GOLF COURSE', 'RD        ', 5058339563, '0405      ', 'Food Processor', datetime.datetime(2010, 4, 14, 0, 0), 'ROUTINE FOOD INSPECTION', 'DA8010205      ', '11        ', 'APPROVED', '03   ', 'IN COMPLIANCE', '    00         ', 'No Violations Found'),\n",
       " ('00BSAY IT WITH CAKE', 50534, '10200 GOLF COURSE RD NW STE B', '87114          ', 47341, 'OOBSAY IT WITH CAKE', 'CAKE DECORATING', 'GOLF COURSE', 'RD        ', 5058339563, '0405      ', 'Food Processor', datetime.datetime(2010, 4, 14, 0, 0), 'ROUTINE FOOD INSPECTION', 'DA8010205      ', '11        ', 'APPROVED', '03   ', 'IN COMPLIANCE', '    55         ', 'Additional Comments')]"
      ]
     },
     "execution_count": 16,
     "metadata": {},
     "output_type": "execute_result"
    }
   ],
   "source": [
    "%%sql\n",
    "SELECT * FROM inspections\n",
    "LIMIT 5;"
   ]
  },
  {
   "cell_type": "code",
   "execution_count": 17,
   "metadata": {
    "collapsed": false
   },
   "outputs": [
    {
     "name": "stdout",
     "output_type": "stream",
     "text": [
      "1 rows affected.\n"
     ]
    },
    {
     "data": {
      "text/html": [
       "<table>\n",
       "    <tr>\n",
       "        <th>count</th>\n",
       "    </tr>\n",
       "    <tr>\n",
       "        <td>17556</td>\n",
       "    </tr>\n",
       "</table>"
      ],
      "text/plain": [
       "[(17556,)]"
      ]
     },
     "execution_count": 17,
     "metadata": {},
     "output_type": "execute_result"
    }
   ],
   "source": [
    "%%sql\n",
    "\n",
    "SELECT COUNT(*) FROM inspections;"
   ]
  },
  {
   "cell_type": "markdown",
   "metadata": {},
   "source": [
    "We successfully verify that our database has 17556 rows with 21 attributes."
   ]
  },
  {
   "cell_type": "markdown",
   "metadata": {},
   "source": [
    "## Problem 3 - explore your data (30 points)\n",
    "\n",
    "Now that the data is loaded, ask some questions of it!  Identify key variables of interest and note their ranges along with other useful descriptive statistics.  Choose and define a few lines of inquiry, execute queries for each, and describe what you find in your result sets.  Use any query techniques we've seen in class, including aggregate functions, transformations, subqueries, or others as appropriate. \n",
    "\n",
    "If you find interesting patterns, adding plots to your exploration would be useful.\n",
    "\n",
    "Insert a combination of code and text/markdown cells here to explore your data."
   ]
  },
  {
   "cell_type": "markdown",
   "metadata": {
    "collapsed": true
   },
   "source": [
    "We can find the descriptive statistics of the variables using MAX, MIN, AVG and STDDEV functions. In this dataset there are not much of columns with numerical data apart form the identifier keys.\n",
    "\n",
    "The variables of my interest are NATURE_OF_BUSINESS,PROGRAM_CATEGORY_DESC,INSPECTION_DESC,VIOLATION_DESC"
   ]
  },
  {
   "cell_type": "markdown",
   "metadata": {
    "collapsed": true
   },
   "source": [
    "What are the top 10 nature of business?"
   ]
  },
  {
   "cell_type": "code",
   "execution_count": 18,
   "metadata": {
    "collapsed": false
   },
   "outputs": [
    {
     "name": "stdout",
     "output_type": "stream",
     "text": [
      "10 rows affected.\n"
     ]
    },
    {
     "data": {
      "text/html": [
       "<table>\n",
       "    <tr>\n",
       "        <th>nature_of_business</th>\n",
       "        <th>count</th>\n",
       "    </tr>\n",
       "    <tr>\n",
       "        <td>RESTAURANT</td>\n",
       "        <td>4994</td>\n",
       "    </tr>\n",
       "    <tr>\n",
       "        <td>FOOD SERVICE</td>\n",
       "        <td>691</td>\n",
       "    </tr>\n",
       "    <tr>\n",
       "        <td>GROCERY</td>\n",
       "        <td>618</td>\n",
       "    </tr>\n",
       "    <tr>\n",
       "        <td>BAR/RESTAURANT</td>\n",
       "        <td>508</td>\n",
       "    </tr>\n",
       "    <tr>\n",
       "        <td>APS SCHOOL FOOD SERVICE</td>\n",
       "        <td>470</td>\n",
       "    </tr>\n",
       "    <tr>\n",
       "        <td>BKRY/GROC/REST</td>\n",
       "        <td>315</td>\n",
       "    </tr>\n",
       "    <tr>\n",
       "        <td>INST KITCHEN</td>\n",
       "        <td>272</td>\n",
       "    </tr>\n",
       "    <tr>\n",
       "        <td>HOTEL</td>\n",
       "        <td>254</td>\n",
       "    </tr>\n",
       "    <tr>\n",
       "        <td>CHILD CARE</td>\n",
       "        <td>251</td>\n",
       "    </tr>\n",
       "    <tr>\n",
       "        <td>APS SCHOOL FOODSERVICE</td>\n",
       "        <td>246</td>\n",
       "    </tr>\n",
       "</table>"
      ],
      "text/plain": [
       "[('RESTAURANT', 4994),\n",
       " ('FOOD SERVICE', 691),\n",
       " ('GROCERY', 618),\n",
       " ('BAR/RESTAURANT', 508),\n",
       " ('APS SCHOOL FOOD SERVICE', 470),\n",
       " ('BKRY/GROC/REST', 315),\n",
       " ('INST KITCHEN', 272),\n",
       " ('HOTEL', 254),\n",
       " ('CHILD CARE', 251),\n",
       " ('APS SCHOOL FOODSERVICE', 246)]"
      ]
     },
     "execution_count": 18,
     "metadata": {},
     "output_type": "execute_result"
    }
   ],
   "source": [
    "%%sql\n",
    "SELECT nature_of_business, COUNT(nature_of_business)\n",
    "FROM inspections\n",
    "GROUP BY nature_of_business\n",
    "ORDER BY COUNT DESC\n",
    "LIMIT 10;"
   ]
  },
  {
   "cell_type": "markdown",
   "metadata": {},
   "source": [
    "What is the type of business which appeared the most?"
   ]
  },
  {
   "cell_type": "code",
   "execution_count": 19,
   "metadata": {
    "collapsed": false
   },
   "outputs": [
    {
     "name": "stdout",
     "output_type": "stream",
     "text": [
      "1 rows affected.\n"
     ]
    },
    {
     "data": {
      "text/html": [
       "<table>\n",
       "    <tr>\n",
       "        <th>nature_of_business</th>\n",
       "        <th>count</th>\n",
       "    </tr>\n",
       "    <tr>\n",
       "        <td>RESTAURANT</td>\n",
       "        <td>4994</td>\n",
       "    </tr>\n",
       "</table>"
      ],
      "text/plain": [
       "[('RESTAURANT', 4994)]"
      ]
     },
     "execution_count": 19,
     "metadata": {},
     "output_type": "execute_result"
    }
   ],
   "source": [
    "%%sql\n",
    "SELECT nature_of_business,COUNT(nature_of_business)\n",
    "FROM inspections\n",
    "GROUP BY nature_of_business\n",
    "ORDER BY COUNT DESC\n",
    "LIMIT 1;"
   ]
  },
  {
   "cell_type": "markdown",
   "metadata": {},
   "source": [
    "What is the type of business which appeared the least?"
   ]
  },
  {
   "cell_type": "code",
   "execution_count": 20,
   "metadata": {
    "collapsed": false
   },
   "outputs": [
    {
     "name": "stdout",
     "output_type": "stream",
     "text": [
      "1 rows affected.\n"
     ]
    },
    {
     "data": {
      "text/html": [
       "<table>\n",
       "    <tr>\n",
       "        <th>nature_of_business</th>\n",
       "        <th>count</th>\n",
       "    </tr>\n",
       "    <tr>\n",
       "        <td>MOBILE VENDING</td>\n",
       "        <td>1</td>\n",
       "    </tr>\n",
       "</table>"
      ],
      "text/plain": [
       "[('MOBILE VENDING', 1)]"
      ]
     },
     "execution_count": 20,
     "metadata": {},
     "output_type": "execute_result"
    }
   ],
   "source": [
    "%%sql\n",
    "SELECT nature_of_business,COUNT(nature_of_business)\n",
    "FROM inspections\n",
    "where nature_of_business != 'None'\n",
    "GROUP BY nature_of_business\n",
    "ORDER BY COUNT\n",
    "LIMIT 1;"
   ]
  },
  {
   "cell_type": "markdown",
   "metadata": {},
   "source": [
    "Find the top 5 PROGRAM CATEGORY DESCRIPTIONS."
   ]
  },
  {
   "cell_type": "code",
   "execution_count": 21,
   "metadata": {
    "collapsed": false
   },
   "outputs": [
    {
     "name": "stdout",
     "output_type": "stream",
     "text": [
      "5 rows affected.\n"
     ]
    },
    {
     "data": {
      "text/html": [
       "<table>\n",
       "    <tr>\n",
       "        <th>program_category_desc</th>\n",
       "        <th>count</th>\n",
       "    </tr>\n",
       "    <tr>\n",
       "        <td>Food Service Establishment</td>\n",
       "        <td>7969</td>\n",
       "    </tr>\n",
       "    <tr>\n",
       "        <td>Retail -Grocery</td>\n",
       "        <td>1159</td>\n",
       "    </tr>\n",
       "    <tr>\n",
       "        <td>Retail - Self Service &amp; Prepackage Foods</td>\n",
       "        <td>894</td>\n",
       "    </tr>\n",
       "    <tr>\n",
       "        <td>Retail - Prepackage Only</td>\n",
       "        <td>865</td>\n",
       "    </tr>\n",
       "    <tr>\n",
       "        <td>School</td>\n",
       "        <td>832</td>\n",
       "    </tr>\n",
       "</table>"
      ],
      "text/plain": [
       "[('Food Service Establishment', 7969),\n",
       " ('Retail -Grocery', 1159),\n",
       " ('Retail - Self Service & Prepackage Foods', 894),\n",
       " ('Retail - Prepackage Only', 865),\n",
       " ('School', 832)]"
      ]
     },
     "execution_count": 21,
     "metadata": {},
     "output_type": "execute_result"
    }
   ],
   "source": [
    "%%sql\n",
    "SELECT program_category_desc,COUNT(program_category_desc)\n",
    "FROM inspections\n",
    "GROUP BY program_category_desc\n",
    "ORDER BY COUNT DESC\n",
    "LIMIT 5;"
   ]
  },
  {
   "cell_type": "markdown",
   "metadata": {},
   "source": [
    "Find the program category which is most frequent"
   ]
  },
  {
   "cell_type": "code",
   "execution_count": 22,
   "metadata": {
    "collapsed": false
   },
   "outputs": [
    {
     "name": "stdout",
     "output_type": "stream",
     "text": [
      "1 rows affected.\n"
     ]
    },
    {
     "data": {
      "text/html": [
       "<table>\n",
       "    <tr>\n",
       "        <th>program_category_desc</th>\n",
       "        <th>cnt</th>\n",
       "    </tr>\n",
       "    <tr>\n",
       "        <td>Food Service Establishment</td>\n",
       "        <td>7969</td>\n",
       "    </tr>\n",
       "</table>"
      ],
      "text/plain": [
       "[('Food Service Establishment', 7969)]"
      ]
     },
     "execution_count": 22,
     "metadata": {},
     "output_type": "execute_result"
    }
   ],
   "source": [
    "%%sql \n",
    "\n",
    "SELECT program_category_desc, cnt\n",
    "FROM (\n",
    "    SELECT program_category_desc, COUNT(program_category_desc) AS cnt \n",
    "    FROM inspections \n",
    "    GROUP BY program_category_desc \n",
    "    ORDER BY cnt DESC )inspections \n",
    "LIMIT 1;"
   ]
  },
  {
   "cell_type": "code",
   "execution_count": null,
   "metadata": {
    "collapsed": true
   },
   "outputs": [],
   "source": [
    "Find the program category which is least frequent"
   ]
  },
  {
   "cell_type": "code",
   "execution_count": 23,
   "metadata": {
    "collapsed": false
   },
   "outputs": [
    {
     "name": "stdout",
     "output_type": "stream",
     "text": [
      "1 rows affected.\n"
     ]
    },
    {
     "data": {
      "text/html": [
       "<table>\n",
       "    <tr>\n",
       "        <th>program_category_desc</th>\n",
       "        <th>cnt</th>\n",
       "    </tr>\n",
       "    <tr>\n",
       "        <td>Food/Drink Vending - Up to 15 Units</td>\n",
       "        <td>6</td>\n",
       "    </tr>\n",
       "</table>"
      ],
      "text/plain": [
       "[('Food/Drink Vending - Up to 15 Units', 6)]"
      ]
     },
     "execution_count": 23,
     "metadata": {},
     "output_type": "execute_result"
    }
   ],
   "source": [
    "%%sql \n",
    "\n",
    "SELECT program_category_desc, cnt\n",
    "FROM (\n",
    "    SELECT program_category_desc, COUNT(program_category_desc) AS cnt \n",
    "    FROM inspections \n",
    "    where program_category_desc != 'None'\n",
    "    GROUP BY program_category_desc \n",
    "    ORDER BY cnt )inspections \n",
    "LIMIT 1;"
   ]
  },
  {
   "cell_type": "markdown",
   "metadata": {},
   "source": [
    "Find the top 10 Facilities with highest Violations"
   ]
  },
  {
   "cell_type": "code",
   "execution_count": 24,
   "metadata": {
    "collapsed": false
   },
   "outputs": [
    {
     "name": "stdout",
     "output_type": "stream",
     "text": [
      "10 rows affected.\n"
     ]
    },
    {
     "data": {
      "text/html": [
       "<table>\n",
       "    <tr>\n",
       "        <th>facility_name</th>\n",
       "        <th>Number of Violations</th>\n",
       "    </tr>\n",
       "    <tr>\n",
       "        <td>CIRCLE K 8936</td>\n",
       "        <td>63</td>\n",
       "    </tr>\n",
       "    <tr>\n",
       "        <td>DIONS PIZZA</td>\n",
       "        <td>62</td>\n",
       "    </tr>\n",
       "    <tr>\n",
       "        <td>OOB MOM THAI FOOD</td>\n",
       "        <td>60</td>\n",
       "    </tr>\n",
       "    <tr>\n",
       "        <td>CIRCLE K 8940</td>\n",
       "        <td>60</td>\n",
       "    </tr>\n",
       "    <tr>\n",
       "        <td>ECHO INC</td>\n",
       "        <td>60</td>\n",
       "    </tr>\n",
       "    <tr>\n",
       "        <td>SMITHS FOOD AND DRUG CENTERS INC</td>\n",
       "        <td>49</td>\n",
       "    </tr>\n",
       "    <tr>\n",
       "        <td>99 BANH SUPERMARKET</td>\n",
       "        <td>42</td>\n",
       "    </tr>\n",
       "    <tr>\n",
       "        <td>MCDONALDS</td>\n",
       "        <td>33</td>\n",
       "    </tr>\n",
       "    <tr>\n",
       "        <td>TALIN MARKET WORLD FOOD FARE</td>\n",
       "        <td>32</td>\n",
       "    </tr>\n",
       "    <tr>\n",
       "        <td>EL MEZQUITE MARKET LLC</td>\n",
       "        <td>28</td>\n",
       "    </tr>\n",
       "</table>"
      ],
      "text/plain": [
       "[('CIRCLE K 8936', 63),\n",
       " ('DIONS PIZZA', 62),\n",
       " ('OOB MOM THAI FOOD', 60),\n",
       " ('CIRCLE K 8940', 60),\n",
       " ('ECHO INC', 60),\n",
       " ('SMITHS FOOD AND DRUG CENTERS INC', 49),\n",
       " ('99 BANH SUPERMARKET', 42),\n",
       " ('MCDONALDS', 33),\n",
       " ('TALIN MARKET WORLD FOOD FARE', 32),\n",
       " ('EL MEZQUITE MARKET LLC', 28)]"
      ]
     },
     "execution_count": 24,
     "metadata": {},
     "output_type": "execute_result"
    }
   ],
   "source": [
    "%%sql \n",
    "\n",
    "SELECT facility_name,COUNT(violation_desc) as \"Number of Violations\" \n",
    "FROM inspections\n",
    "WHERE violation_desc NOT IN ('No Violations Found','Additional Comments')\n",
    "GROUP BY facility_name\n",
    "ORDER BY COUNT(violation_desc) DESC\n",
    "LIMIT 10;"
   ]
  },
  {
   "cell_type": "code",
   "execution_count": 25,
   "metadata": {
    "collapsed": false
   },
   "outputs": [
    {
     "name": "stderr",
     "output_type": "stream",
     "text": [
      "/opt/conda/lib/python3.5/site-packages/matplotlib/font_manager.py:273: UserWarning: Matplotlib is building the font cache using fc-list. This may take a moment.\n",
      "  warnings.warn('Matplotlib is building the font cache using fc-list. This may take a moment.')\n",
      "/opt/conda/lib/python3.5/site-packages/matplotlib/font_manager.py:273: UserWarning: Matplotlib is building the font cache using fc-list. This may take a moment.\n",
      "  warnings.warn('Matplotlib is building the font cache using fc-list. This may take a moment.')\n"
     ]
    }
   ],
   "source": [
    "%matplotlib inline"
   ]
  },
  {
   "cell_type": "code",
   "execution_count": 26,
   "metadata": {
    "collapsed": false
   },
   "outputs": [
    {
     "data": {
      "text/plain": [
       "<Container object of 10 artists>"
      ]
     },
     "execution_count": 26,
     "metadata": {},
     "output_type": "execute_result"
    },
    {
     "data": {
      "image/png": "[encoded data removed]",
      "text/plain": [
       "<matplotlib.figure.Figure at 0x7f3da650d080>"
      ]
     },
     "metadata": {},
     "output_type": "display_data"
    }
   ],
   "source": [
    "result= _\n",
    "result.bar()"
   ]
  },
  {
   "cell_type": "markdown",
   "metadata": {},
   "source": [
    "Find the owners with highest number of facilities"
   ]
  },
  {
   "cell_type": "code",
   "execution_count": 27,
   "metadata": {
    "collapsed": false
   },
   "outputs": [
    {
     "name": "stdout",
     "output_type": "stream",
     "text": [
      "15 rows affected.\n"
     ]
    },
    {
     "data": {
      "text/html": [
       "<table>\n",
       "    <tr>\n",
       "        <th>owner_name</th>\n",
       "        <th>No of Facilities</th>\n",
       "    </tr>\n",
       "    <tr>\n",
       "        <td>APS</td>\n",
       "        <td>122</td>\n",
       "    </tr>\n",
       "    <tr>\n",
       "        <td>CIRCLE K STORES INC</td>\n",
       "        <td>44</td>\n",
       "    </tr>\n",
       "    <tr>\n",
       "        <td>PALO ALTO INC</td>\n",
       "        <td>28</td>\n",
       "    </tr>\n",
       "    <tr>\n",
       "        <td>WALGREENS CO</td>\n",
       "        <td>28</td>\n",
       "    </tr>\n",
       "    <tr>\n",
       "        <td>STARBUCKS CORP</td>\n",
       "        <td>25</td>\n",
       "    </tr>\n",
       "    <tr>\n",
       "        <td>SCS BEVERAGE INC</td>\n",
       "        <td>22</td>\n",
       "    </tr>\n",
       "    <tr>\n",
       "        <td>BLAKES LOTABURGER LLC</td>\n",
       "        <td>22</td>\n",
       "    </tr>\n",
       "    <tr>\n",
       "        <td>COA - FAMILY &amp; COMMUNITY SVCS</td>\n",
       "        <td>22</td>\n",
       "    </tr>\n",
       "    <tr>\n",
       "        <td>WESTERN REFINING SOUTHWEST INC</td>\n",
       "        <td>20</td>\n",
       "    </tr>\n",
       "    <tr>\n",
       "        <td>OOBPCF SALESCO LLC</td>\n",
       "        <td>20</td>\n",
       "    </tr>\n",
       "    <tr>\n",
       "        <td>FAMILY DOLLAR INC 2828</td>\n",
       "        <td>19</td>\n",
       "    </tr>\n",
       "    <tr>\n",
       "        <td>CST SERVICES LLC</td>\n",
       "        <td>16</td>\n",
       "    </tr>\n",
       "    <tr>\n",
       "        <td>DOUBLE CHEESE CORP</td>\n",
       "        <td>15</td>\n",
       "    </tr>\n",
       "    <tr>\n",
       "        <td>YDI HEAD START</td>\n",
       "        <td>14</td>\n",
       "    </tr>\n",
       "    <tr>\n",
       "        <td>DOLLAR TREE STORES INC</td>\n",
       "        <td>13</td>\n",
       "    </tr>\n",
       "</table>"
      ],
      "text/plain": [
       "[('APS', 122),\n",
       " ('CIRCLE K STORES INC', 44),\n",
       " ('PALO ALTO INC', 28),\n",
       " ('WALGREENS CO', 28),\n",
       " ('STARBUCKS CORP', 25),\n",
       " ('SCS BEVERAGE INC', 22),\n",
       " ('BLAKES LOTABURGER LLC', 22),\n",
       " ('COA - FAMILY & COMMUNITY SVCS', 22),\n",
       " ('WESTERN REFINING SOUTHWEST INC', 20),\n",
       " ('OOBPCF SALESCO LLC', 20),\n",
       " ('FAMILY DOLLAR INC 2828', 19),\n",
       " ('CST SERVICES LLC', 16),\n",
       " ('DOUBLE CHEESE CORP', 15),\n",
       " ('YDI HEAD START', 14),\n",
       " ('DOLLAR TREE STORES INC', 13)]"
      ]
     },
     "execution_count": 27,
     "metadata": {},
     "output_type": "execute_result"
    }
   ],
   "source": [
    "%%sql\n",
    "\n",
    "SELECT owner_name, COUNT(facility_name) AS \"No of Facilities\"\n",
    "FROM\n",
    "(SELECT DISTINCT owner_name,facility_name\n",
    "FROM inspections\n",
    "ORDER BY owner_name) inspections\n",
    "Group by owner_name\n",
    "ORDER BY COUNT(facility_name) DESC \n",
    "limit 15;\n"
   ]
  },
  {
   "cell_type": "code",
   "execution_count": 28,
   "metadata": {
    "collapsed": false
   },
   "outputs": [],
   "source": [
    "%matplotlib inline"
   ]
  },
  {
   "cell_type": "code",
   "execution_count": 29,
   "metadata": {
    "collapsed": false
   },
   "outputs": [
    {
     "data": {
      "text/plain": [
       "([<matplotlib.patches.Wedge at 0x7f3da6cb4dd8>,\n",
       "  <matplotlib.patches.Wedge at 0x7f3da6cb9a90>,\n",
       "  <matplotlib.patches.Wedge at 0x7f3dd2f116a0>,\n",
       "  <matplotlib.patches.Wedge at 0x7f3dd2f13320>,\n",
       "  <matplotlib.patches.Wedge at 0x7f3dd2f13f60>,\n",
       "  <matplotlib.patches.Wedge at 0x7f3dd2f1ebe0>,\n",
       "  <matplotlib.patches.Wedge at 0x7f3dd2f1d860>,\n",
       "  <matplotlib.patches.Wedge at 0x7f3dd2f2d4e0>,\n",
       "  <matplotlib.patches.Wedge at 0x7f3dd2f30160>,\n",
       "  <matplotlib.patches.Wedge at 0x7f3dd2f30da0>,\n",
       "  <matplotlib.patches.Wedge at 0x7f3dd2f39a20>,\n",
       "  <matplotlib.patches.Wedge at 0x7f3dd2f3a6a0>,\n",
       "  <matplotlib.patches.Wedge at 0x7f3dd2f44320>,\n",
       "  <matplotlib.patches.Wedge at 0x7f3dd2f44ef0>,\n",
       "  <matplotlib.patches.Wedge at 0x7f3dd2f46b70>],\n",
       " [<matplotlib.text.Text at 0x7f3da6cb9630>,\n",
       "  <matplotlib.text.Text at 0x7f3dd2f11240>,\n",
       "  <matplotlib.text.Text at 0x7f3dd2f11e80>,\n",
       "  <matplotlib.text.Text at 0x7f3dd2f13b00>,\n",
       "  <matplotlib.text.Text at 0x7f3dd2f1e780>,\n",
       "  <matplotlib.text.Text at 0x7f3dd2f1d400>,\n",
       "  <matplotlib.text.Text at 0x7f3dd2f1df60>,\n",
       "  <matplotlib.text.Text at 0x7f3dd2f2dcc0>,\n",
       "  <matplotlib.text.Text at 0x7f3dd2f30940>,\n",
       "  <matplotlib.text.Text at 0x7f3dd2f395c0>,\n",
       "  <matplotlib.text.Text at 0x7f3dd2f3a240>,\n",
       "  <matplotlib.text.Text at 0x7f3dd2f3ae80>,\n",
       "  <matplotlib.text.Text at 0x7f3dd2f44a90>,\n",
       "  <matplotlib.text.Text at 0x7f3dd2f46710>,\n",
       "  <matplotlib.text.Text at 0x7f3dd2f4c390>])"
      ]
     },
     "execution_count": 29,
     "metadata": {},
     "output_type": "execute_result"
    },
    {
     "data": {
      "image/png": "[encoded data removed]",
      "text/plain": [
       "<matplotlib.figure.Figure at 0x7f3da6c6af98>"
      ]
     },
     "metadata": {},
     "output_type": "display_data"
    }
   ],
   "source": [
    "result= _\n",
    "result.pie()"
   ]
  },
  {
   "cell_type": "code",
   "execution_count": null,
   "metadata": {
    "collapsed": true
   },
   "outputs": [],
   "source": [
    "What kind of Inspections does the inspection department do the most?"
   ]
  },
  {
   "cell_type": "code",
   "execution_count": 30,
   "metadata": {
    "collapsed": false
   },
   "outputs": [
    {
     "name": "stdout",
     "output_type": "stream",
     "text": [
      "10 rows affected.\n"
     ]
    },
    {
     "data": {
      "text/html": [
       "<table>\n",
       "    <tr>\n",
       "        <th>inspection_desc</th>\n",
       "        <th>count</th>\n",
       "    </tr>\n",
       "    <tr>\n",
       "        <td>ROUTINE FOOD INSPECTION</td>\n",
       "        <td>12439</td>\n",
       "    </tr>\n",
       "    <tr>\n",
       "        <td>EMERGENCY RESPONSE</td>\n",
       "        <td>1987</td>\n",
       "    </tr>\n",
       "    <tr>\n",
       "        <td>New Business Inspection</td>\n",
       "        <td>1005</td>\n",
       "    </tr>\n",
       "    <tr>\n",
       "        <td>PRE-OPENING FOOD INSPECTION</td>\n",
       "        <td>743</td>\n",
       "    </tr>\n",
       "    <tr>\n",
       "        <td>ADDITIONAL SERVICE PROVIDED</td>\n",
       "        <td>439</td>\n",
       "    </tr>\n",
       "    <tr>\n",
       "        <td>MOBILE UNIT FOOD INSPECTION</td>\n",
       "        <td>377</td>\n",
       "    </tr>\n",
       "    <tr>\n",
       "        <td>PHONE CALL</td>\n",
       "        <td>247</td>\n",
       "    </tr>\n",
       "    <tr>\n",
       "        <td>FOOD FOLLOW-UP INSPECTION</td>\n",
       "        <td>143</td>\n",
       "    </tr>\n",
       "    <tr>\n",
       "        <td>FOLLOW-UP DOCUMENTATION RECEIVED</td>\n",
       "        <td>75</td>\n",
       "    </tr>\n",
       "    <tr>\n",
       "        <td>MANAGERIAL ASSISTANCE</td>\n",
       "        <td>54</td>\n",
       "    </tr>\n",
       "</table>"
      ],
      "text/plain": [
       "[('ROUTINE FOOD INSPECTION', 12439),\n",
       " ('EMERGENCY RESPONSE', 1987),\n",
       " ('New Business Inspection', 1005),\n",
       " ('PRE-OPENING FOOD INSPECTION', 743),\n",
       " ('ADDITIONAL SERVICE PROVIDED', 439),\n",
       " ('MOBILE UNIT FOOD INSPECTION', 377),\n",
       " ('PHONE CALL', 247),\n",
       " ('FOOD FOLLOW-UP INSPECTION', 143),\n",
       " ('FOLLOW-UP DOCUMENTATION RECEIVED', 75),\n",
       " ('MANAGERIAL ASSISTANCE', 54)]"
      ]
     },
     "execution_count": 30,
     "metadata": {},
     "output_type": "execute_result"
    }
   ],
   "source": [
    "%%sql\n",
    "\n",
    "SELECT inspection_desc, COUNT(inspection_desc)\n",
    "FROM inspections\n",
    "GROUP BY inspection_desc\n",
    "ORDER BY COUNT(inspection_desc) DESC\n",
    "LIMIT 10;"
   ]
  },
  {
   "cell_type": "markdown",
   "metadata": {},
   "source": [
    "## Bonus (10 points)\n",
    "\n",
    "We have seen a few simple techniques for normalizing data in class.  Choose a column or set of columns that might be redundant and normalize them out to another table:\n",
    "\n",
    "* Identify the columns to normalize in the source data table\n",
    "* Create one or more new tables to hold the normalized records\n",
    "* Extract data into the new tables\n",
    "* Re-insert the new foreign key references from the new table into the source table"
   ]
  },
  {
   "cell_type": "markdown",
   "metadata": {},
   "source": [
    "\n",
    "In this question I identified that variables result_desc and action_desc needs to be normalized and hence we need to create new tables action and result to store the variables action_code,action_desc,result_code,result_desc.\n"
   ]
  },
  {
   "cell_type": "code",
   "execution_count": 31,
   "metadata": {
    "collapsed": false
   },
   "outputs": [
    {
     "name": "stdout",
     "output_type": "stream",
     "text": [
      "Done.\n",
      "Done.\n"
     ]
    },
    {
     "data": {
      "text/plain": [
       "[]"
      ]
     },
     "execution_count": 31,
     "metadata": {},
     "output_type": "execute_result"
    }
   ],
   "source": [
    "%%sql\n",
    "\n",
    "DROP TABLE IF EXISTS action;\n",
    "\n",
    "CREATE TABLE action (\n",
    "    action_no CHAR(10) ,\n",
    "    action_desc VARCHAR(40),\n",
    "    PRIMARY KEY(action_no) \n",
    ");"
   ]
  },
  {
   "cell_type": "code",
   "execution_count": null,
   "metadata": {
    "collapsed": true
   },
   "outputs": [],
   "source": [
    "NOW inserting Data into the action table."
   ]
  },
  {
   "cell_type": "code",
   "execution_count": 32,
   "metadata": {
    "collapsed": false
   },
   "outputs": [
    {
     "name": "stdout",
     "output_type": "stream",
     "text": [
      "8 rows affected.\n"
     ]
    },
    {
     "data": {
      "text/plain": [
       "[]"
      ]
     },
     "execution_count": 32,
     "metadata": {},
     "output_type": "execute_result"
    }
   ],
   "source": [
    "%%sql\n",
    "\n",
    "INSERT INTO action(action_no,action_desc)\n",
    "SELECT action_code, action_desc FROM(SELECT DISTINCT action_code, action_desc\n",
    "FROM inspections\n",
    "GROUP BY action_code,action_desc\n",
    "ORDER BY action_code) AS d;"
   ]
  },
  {
   "cell_type": "code",
   "execution_count": 33,
   "metadata": {
    "collapsed": false
   },
   "outputs": [
    {
     "name": "stdout",
     "output_type": "stream",
     "text": [
      "8 rows affected.\n"
     ]
    },
    {
     "data": {
      "text/html": [
       "<table>\n",
       "    <tr>\n",
       "        <th>action_no</th>\n",
       "        <th>action_desc</th>\n",
       "    </tr>\n",
       "    <tr>\n",
       "        <td>00        </td>\n",
       "        <td>NON-GRADED</td>\n",
       "    </tr>\n",
       "    <tr>\n",
       "        <td>03        </td>\n",
       "        <td>FACILITY CLOSED AT TIME OF SERVICE</td>\n",
       "    </tr>\n",
       "    <tr>\n",
       "        <td>06        </td>\n",
       "        <td>UNSATISFACTORY</td>\n",
       "    </tr>\n",
       "    <tr>\n",
       "        <td>09        </td>\n",
       "        <td>ANNUAL STICKER ISSUED</td>\n",
       "    </tr>\n",
       "    <tr>\n",
       "        <td>10        </td>\n",
       "        <td>ANNUAL STICKER NOT ISSUED</td>\n",
       "    </tr>\n",
       "    <tr>\n",
       "        <td>11        </td>\n",
       "        <td>APPROVED</td>\n",
       "    </tr>\n",
       "    <tr>\n",
       "        <td>12        </td>\n",
       "        <td>NO PERMIT APPLICATION ISSUED</td>\n",
       "    </tr>\n",
       "    <tr>\n",
       "        <td>17        </td>\n",
       "        <td>FOOD PERMIT SUSPENSION</td>\n",
       "    </tr>\n",
       "</table>"
      ],
      "text/plain": [
       "[('00        ', 'NON-GRADED'),\n",
       " ('03        ', 'FACILITY CLOSED AT TIME OF SERVICE'),\n",
       " ('06        ', 'UNSATISFACTORY'),\n",
       " ('09        ', 'ANNUAL STICKER ISSUED'),\n",
       " ('10        ', 'ANNUAL STICKER NOT ISSUED'),\n",
       " ('11        ', 'APPROVED'),\n",
       " ('12        ', 'NO PERMIT APPLICATION ISSUED'),\n",
       " ('17        ', 'FOOD PERMIT SUSPENSION')]"
      ]
     },
     "execution_count": 33,
     "metadata": {},
     "output_type": "execute_result"
    }
   ],
   "source": [
    "%%sql\n",
    "\n",
    "select * from action;"
   ]
  },
  {
   "cell_type": "markdown",
   "metadata": {},
   "source": [
    "Now similarly creating tables result and inserting data into this table.  "
   ]
  },
  {
   "cell_type": "code",
   "execution_count": 34,
   "metadata": {
    "collapsed": false
   },
   "outputs": [
    {
     "name": "stdout",
     "output_type": "stream",
     "text": [
      "Done.\n",
      "Done.\n"
     ]
    },
    {
     "data": {
      "text/plain": [
       "[]"
      ]
     },
     "execution_count": 34,
     "metadata": {},
     "output_type": "execute_result"
    }
   ],
   "source": [
    "%%sql\n",
    "\n",
    "DROP TABLE IF EXISTS result;\n",
    "\n",
    "CREATE TABLE result (\n",
    "    result_no CHAR(10) ,\n",
    "    result_desc VARCHAR(45),\n",
    "    PRIMARY KEY(result_no) \n",
    ");"
   ]
  },
  {
   "cell_type": "code",
   "execution_count": 35,
   "metadata": {
    "collapsed": false
   },
   "outputs": [
    {
     "name": "stdout",
     "output_type": "stream",
     "text": [
      "19 rows affected.\n"
     ]
    },
    {
     "data": {
      "text/plain": [
       "[]"
      ]
     },
     "execution_count": 35,
     "metadata": {},
     "output_type": "execute_result"
    }
   ],
   "source": [
    "%%sql\n",
    "\n",
    "INSERT INTO result\n",
    "SELECT result_code,result_desc FROM (\n",
    "SELECT DISTINCT result_code,result_desc \n",
    "FROM inspections \n",
    "GROUP BY result_code,result_desc\n",
    "ORDER BY result_code)as d;"
   ]
  },
  {
   "cell_type": "code",
   "execution_count": 36,
   "metadata": {
    "collapsed": false
   },
   "outputs": [
    {
     "name": "stdout",
     "output_type": "stream",
     "text": [
      "19 rows affected.\n"
     ]
    },
    {
     "data": {
      "text/html": [
       "<table>\n",
       "    <tr>\n",
       "        <th>result_no</th>\n",
       "        <th>result_desc</th>\n",
       "    </tr>\n",
       "    <tr>\n",
       "        <td>00        </td>\n",
       "        <td>NOT APPLICABLE</td>\n",
       "    </tr>\n",
       "    <tr>\n",
       "        <td>02        </td>\n",
       "        <td>NOT IN COMPLIANCE</td>\n",
       "    </tr>\n",
       "    <tr>\n",
       "        <td>03        </td>\n",
       "        <td>IN COMPLIANCE</td>\n",
       "    </tr>\n",
       "    <tr>\n",
       "        <td>04        </td>\n",
       "        <td>NOTICE</td>\n",
       "    </tr>\n",
       "    <tr>\n",
       "        <td>05        </td>\n",
       "        <td>DOWNGRADE</td>\n",
       "    </tr>\n",
       "    <tr>\n",
       "        <td>06        </td>\n",
       "        <td>UPGRADE</td>\n",
       "    </tr>\n",
       "    <tr>\n",
       "        <td>07        </td>\n",
       "        <td>PERMIT SUSPENSION</td>\n",
       "    </tr>\n",
       "    <tr>\n",
       "        <td>08        </td>\n",
       "        <td>VOLUNTARY CLOSURE</td>\n",
       "    </tr>\n",
       "    <tr>\n",
       "        <td>10        </td>\n",
       "        <td>PERMISSION TO OPERATE</td>\n",
       "    </tr>\n",
       "    <tr>\n",
       "        <td>11        </td>\n",
       "        <td>FACILITY CLOSED AT TIME OF INSPECTION</td>\n",
       "    </tr>\n",
       "    <tr>\n",
       "        <td>12        </td>\n",
       "        <td>PERMIT REINSTATEMENT</td>\n",
       "    </tr>\n",
       "    <tr>\n",
       "        <td>13        </td>\n",
       "        <td>PHONE CALL</td>\n",
       "    </tr>\n",
       "    <tr>\n",
       "        <td>14        </td>\n",
       "        <td>IMMEDIATE CLOSURE</td>\n",
       "    </tr>\n",
       "    <tr>\n",
       "        <td>18        </td>\n",
       "        <td>TRAINING RECEIVED</td>\n",
       "    </tr>\n",
       "    <tr>\n",
       "        <td>19        </td>\n",
       "        <td>WITNESS TO DESTRUCTION</td>\n",
       "    </tr>\n",
       "    <tr>\n",
       "        <td>20        </td>\n",
       "        <td>EMBARGO</td>\n",
       "    </tr>\n",
       "    <tr>\n",
       "        <td>22        </td>\n",
       "        <td>OUT OF BUSINESS</td>\n",
       "    </tr>\n",
       "    <tr>\n",
       "        <td>25        </td>\n",
       "        <td>PLAN REVIEW -APPROVED</td>\n",
       "    </tr>\n",
       "    <tr>\n",
       "        <td>27        </td>\n",
       "        <td>RECALL VERIFICATION</td>\n",
       "    </tr>\n",
       "</table>"
      ],
      "text/plain": [
       "[('00        ', 'NOT APPLICABLE'),\n",
       " ('02        ', 'NOT IN COMPLIANCE'),\n",
       " ('03        ', 'IN COMPLIANCE'),\n",
       " ('04        ', 'NOTICE'),\n",
       " ('05        ', 'DOWNGRADE'),\n",
       " ('06        ', 'UPGRADE'),\n",
       " ('07        ', 'PERMIT SUSPENSION'),\n",
       " ('08        ', 'VOLUNTARY CLOSURE'),\n",
       " ('10        ', 'PERMISSION TO OPERATE'),\n",
       " ('11        ', 'FACILITY CLOSED AT TIME OF INSPECTION'),\n",
       " ('12        ', 'PERMIT REINSTATEMENT'),\n",
       " ('13        ', 'PHONE CALL'),\n",
       " ('14        ', 'IMMEDIATE CLOSURE'),\n",
       " ('18        ', 'TRAINING RECEIVED'),\n",
       " ('19        ', 'WITNESS TO DESTRUCTION'),\n",
       " ('20        ', 'EMBARGO'),\n",
       " ('22        ', 'OUT OF BUSINESS'),\n",
       " ('25        ', 'PLAN REVIEW -APPROVED'),\n",
       " ('27        ', 'RECALL VERIFICATION')]"
      ]
     },
     "execution_count": 36,
     "metadata": {},
     "output_type": "execute_result"
    }
   ],
   "source": [
    "%%sql\n",
    "\n",
    "SELECT * FROM result;"
   ]
  },
  {
   "cell_type": "markdown",
   "metadata": {},
   "source": [
    "Now we need to delete the variables action_desc,result_desc from main table and add foreign key references to the same."
   ]
  },
  {
   "cell_type": "code",
   "execution_count": 38,
   "metadata": {
    "collapsed": false
   },
   "outputs": [
    {
     "name": "stdout",
     "output_type": "stream",
     "text": [
      "Done.\n"
     ]
    },
    {
     "data": {
      "text/plain": [
       "[]"
      ]
     },
     "execution_count": 38,
     "metadata": {},
     "output_type": "execute_result"
    }
   ],
   "source": [
    "%%sql \n",
    "\n",
    "ALTER TABLE inspections\n",
    "DROP COLUMN action_desc,DROP COLUMN result_desc\n"
   ]
  },
  {
   "cell_type": "markdown",
   "metadata": {},
   "source": [
    "Creating foreign keys"
   ]
  },
  {
   "cell_type": "code",
   "execution_count": 39,
   "metadata": {
    "collapsed": false
   },
   "outputs": [
    {
     "name": "stdout",
     "output_type": "stream",
     "text": [
      "Done.\n"
     ]
    },
    {
     "data": {
      "text/plain": [
       "[]"
      ]
     },
     "execution_count": 39,
     "metadata": {},
     "output_type": "execute_result"
    }
   ],
   "source": [
    "%%sql\n",
    "\n",
    "ALTER TABLE inspections\n",
    "ADD CONSTRAINT fk_action\n",
    "FOREIGN KEY(action_code)\n",
    "REFERENCES action\n",
    "ON DELETE CASCADE;\n"
   ]
  },
  {
   "cell_type": "code",
   "execution_count": 41,
   "metadata": {
    "collapsed": false
   },
   "outputs": [
    {
     "name": "stdout",
     "output_type": "stream",
     "text": [
      "Done.\n"
     ]
    },
    {
     "data": {
      "text/plain": [
       "[]"
      ]
     },
     "execution_count": 41,
     "metadata": {},
     "output_type": "execute_result"
    }
   ],
   "source": [
    "%%sql\n",
    "\n",
    "ALTER TABLE inspections\n",
    "ADD CONSTRAINT fk_result\n",
    "FOREIGN KEY(result_code)\n",
    "REFERENCES result\n",
    "ON DELETE CASCADE;\n"
   ]
  }
 ],
 "metadata": {
  "anaconda-cloud": {},
  "kernelspec": {
   "display_name": "Python 3",
   "language": "python",
   "name": "python3"
  },
  "language_info": {
   "codemirror_mode": {
    "name": "ipython",
    "version": 3
   },
   "file_extension": ".py",
   "mimetype": "text/x-python",
   "name": "python",
   "nbconvert_exporter": "python",
   "pygments_lexer": "ipython3",
   "version": "3.5.2"
  }
 },
 "nbformat": 4,
 "nbformat_minor": 1
}
